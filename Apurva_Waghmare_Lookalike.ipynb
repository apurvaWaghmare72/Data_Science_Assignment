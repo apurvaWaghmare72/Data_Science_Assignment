{
 "cells": [
  {
   "cell_type": "markdown",
   "id": "9341507f",
   "metadata": {},
   "source": [
    "# Task 2: Lookalike Model "
   ]
  },
  {
   "cell_type": "markdown",
   "id": "52acbc8c",
   "metadata": {},
   "source": [
    "### Import Libraries"
   ]
  },
  {
   "cell_type": "code",
   "execution_count": 1,
   "id": "3ee78e3a",
   "metadata": {},
   "outputs": [],
   "source": [
    "import pandas as pd\n",
    "from sklearn.metrics.pairwise import cosine_similarity\n",
    "from sklearn.preprocessing import StandardScaler"
   ]
  },
  {
   "cell_type": "markdown",
   "id": "af485385",
   "metadata": {},
   "source": [
    "### Load Datasets"
   ]
  },
  {
   "cell_type": "code",
   "execution_count": 2,
   "id": "f416ac7e",
   "metadata": {},
   "outputs": [],
   "source": [
    "customers = pd.read_csv(\"C:/Users/APURVA/ZeoTap-Assign/Customers.csv\")\n",
    "products = pd.read_csv(\"C:/Users/APURVA/ZeoTap-Assign/Products.csv\")\n",
    "transactions = pd.read_csv(\"C:/Users/APURVA/ZeoTap-Assign/Transactions.csv\")"
   ]
  },
  {
   "cell_type": "markdown",
   "id": "18cb699f",
   "metadata": {},
   "source": [
    "### Merge Datasets"
   ]
  },
  {
   "cell_type": "code",
   "execution_count": 3,
   "id": "abbfb6a7",
   "metadata": {},
   "outputs": [],
   "source": [
    "transaction_product = pd.merge(transactions, products, on='ProductID', how='left')"
   ]
  },
  {
   "cell_type": "code",
   "execution_count": 4,
   "id": "c944d24e",
   "metadata": {},
   "outputs": [],
   "source": [
    "customer_product_data = transaction_product.groupby(['CustomerID', 'Category']).agg({\n",
    "    'TotalValue': 'sum',\n",
    "    'Quantity': 'sum'\n",
    "}).reset_index()"
   ]
  },
  {
   "cell_type": "code",
   "execution_count": 5,
   "id": "b8241a3f",
   "metadata": {},
   "outputs": [],
   "source": [
    "customer_product_data_pivot = customer_product_data.pivot_table(\n",
    "    index='CustomerID',\n",
    "    columns='Category',\n",
    "    values=['TotalValue', 'Quantity'],\n",
    "    fill_value=0\n",
    ")"
   ]
  },
  {
   "cell_type": "code",
   "execution_count": 6,
   "id": "6d86f92e",
   "metadata": {},
   "outputs": [],
   "source": [
    "customer_product_data_pivot.columns = [f\"{metric}_{category}\" for metric, category in customer_product_data_pivot.columns]"
   ]
  },
  {
   "cell_type": "code",
   "execution_count": 7,
   "id": "8d2c7492",
   "metadata": {},
   "outputs": [],
   "source": [
    "customer_product_data_pivot.reset_index(inplace=True)"
   ]
  },
  {
   "cell_type": "markdown",
   "id": "fda56569",
   "metadata": {},
   "source": [
    "### Merge with customer data"
   ]
  },
  {
   "cell_type": "code",
   "execution_count": 8,
   "id": "a8ec8a1a",
   "metadata": {},
   "outputs": [],
   "source": [
    "customer_data = pd.merge(customers, customer_product_data_pivot, on='CustomerID', how='left')"
   ]
  },
  {
   "cell_type": "code",
   "execution_count": 9,
   "id": "92e389e6",
   "metadata": {},
   "outputs": [],
   "source": [
    "customer_data.fillna(0, inplace=True)"
   ]
  },
  {
   "cell_type": "markdown",
   "id": "a507900e",
   "metadata": {},
   "source": [
    "### Create a feature set"
   ]
  },
  {
   "cell_type": "code",
   "execution_count": 10,
   "id": "bcc57914",
   "metadata": {},
   "outputs": [],
   "source": [
    "features = customer_data[['CustomerID', 'Region'] + list(customer_product_data_pivot.columns[1:])]"
   ]
  },
  {
   "cell_type": "code",
   "execution_count": 11,
   "id": "4551719b",
   "metadata": {},
   "outputs": [],
   "source": [
    "features = pd.get_dummies(features, columns=['Region'], drop_first=True)"
   ]
  },
  {
   "cell_type": "code",
   "execution_count": 12,
   "id": "9e1857b4",
   "metadata": {},
   "outputs": [],
   "source": [
    "scaler = StandardScaler()\n",
    "scaled_features = scaler.fit_transform(features.drop('CustomerID', axis=1))"
   ]
  },
  {
   "cell_type": "code",
   "execution_count": 13,
   "id": "b0253059",
   "metadata": {},
   "outputs": [],
   "source": [
    "similarity_matrix = cosine_similarity(scaled_features)"
   ]
  },
  {
   "cell_type": "code",
   "execution_count": 14,
   "id": "37610f72",
   "metadata": {},
   "outputs": [],
   "source": [
    "similarity_df = pd.DataFrame(similarity_matrix, index=features['CustomerID'], columns=features['CustomerID'])"
   ]
  },
  {
   "cell_type": "markdown",
   "id": "72addf8e",
   "metadata": {},
   "source": [
    "### Function to get top 3 lookalikes for a given customer"
   ]
  },
  {
   "cell_type": "code",
   "execution_count": 15,
   "id": "ca6f66b7",
   "metadata": {},
   "outputs": [],
   "source": [
    "def get_top_lookalikes(customer_id, n=3):\n",
    "    similar_customers = similarity_df[customer_id].sort_values(ascending=False)[1:n+1]\n",
    "    return similar_customers.index.tolist(), similar_customers.values.tolist()"
   ]
  },
  {
   "cell_type": "code",
   "execution_count": 16,
   "id": "883f3c74",
   "metadata": {},
   "outputs": [],
   "source": [
    "lookalike_results = []\n",
    "for customer_id in features['CustomerID'].head(20):\n",
    "    lookalikes, scores = get_top_lookalikes(customer_id)\n",
    "    for lookalike, score in zip(lookalikes, scores):\n",
    "        lookalike_results.append({'CustomerID': customer_id, 'LookalikeID': lookalike, 'Score': score})"
   ]
  },
  {
   "cell_type": "markdown",
   "id": "545b3333",
   "metadata": {},
   "source": [
    "### DataFrame to save the results"
   ]
  },
  {
   "cell_type": "code",
   "execution_count": 17,
   "id": "a2aa950f",
   "metadata": {},
   "outputs": [],
   "source": [
    "lookalike_df = pd.DataFrame(lookalike_results)"
   ]
  },
  {
   "cell_type": "markdown",
   "id": "c5e76914",
   "metadata": {},
   "source": [
    "### Save the results to a CSV file"
   ]
  },
  {
   "cell_type": "code",
   "execution_count": 18,
   "id": "3c20d78e",
   "metadata": {},
   "outputs": [
    {
     "name": "stdout",
     "output_type": "stream",
     "text": [
      "Lookalike model is generated successfully and saved to Apurva_Waghmare_Lookalike.csv!\n"
     ]
    }
   ],
   "source": [
    "lookalike_df.to_csv('Apurva_Waghmare_Lookalike.csv', index=False)\n",
    "print(\"Lookalike model is generated successfully and saved to Apurva_Waghmare_Lookalike.csv!\")"
   ]
  },
  {
   "cell_type": "code",
   "execution_count": null,
   "id": "ca70473f",
   "metadata": {},
   "outputs": [],
   "source": []
  }
 ],
 "metadata": {
  "kernelspec": {
   "display_name": "Python 3 (ipykernel)",
   "language": "python",
   "name": "python3"
  },
  "language_info": {
   "codemirror_mode": {
    "name": "ipython",
    "version": 3
   },
   "file_extension": ".py",
   "mimetype": "text/x-python",
   "name": "python",
   "nbconvert_exporter": "python",
   "pygments_lexer": "ipython3",
   "version": "3.9.12"
  }
 },
 "nbformat": 4,
 "nbformat_minor": 5
}
